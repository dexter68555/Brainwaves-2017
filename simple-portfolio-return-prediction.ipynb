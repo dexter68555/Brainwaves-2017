{
 "cells": [
  {
   "cell_type": "code",
   "execution_count": 1,
   "metadata": {
    "_cell_guid": "b1076dfc-b9ad-4769-8c92-a6c4dae69d19",
    "_uuid": "8f2839f25d086af736a60e9eeb907d3b93b6e0e5"
   },
   "outputs": [
    {
     "name": "stdout",
     "output_type": "stream",
     "text": [
      "/kaggle/input/returnrate/sample_submission.csv\n",
      "/kaggle/input/returnrate/test.csv\n",
      "/kaggle/input/returnrate/train.csv\n"
     ]
    }
   ],
   "source": [
    "# This Python 3 environment comes with many helpful analytics libraries installed\n",
    "# It is defined by the kaggle/python docker image: https://github.com/kaggle/docker-python\n",
    "# For example, here's several helpful packages to load in \n",
    "\n",
    "import numpy as np # linear algebra\n",
    "import pandas as pd # data processing, CSV file I/O (e.g. pd.read_csv)\n",
    "\n",
    "# Input data files are available in the \"../input/\" directory.\n",
    "# For example, running this (by clicking run or pressing Shift+Enter) will list all files under the input directory\n",
    "\n",
    "import os\n",
    "for dirname, _, filenames in os.walk('/kaggle/input'):\n",
    "    for filename in filenames:\n",
    "        print(os.path.join(dirname, filename))\n",
    "\n",
    "# Any results you write to the current directory are saved as output."
   ]
  },
  {
   "cell_type": "code",
   "execution_count": 2,
   "metadata": {},
   "outputs": [],
   "source": [
    "from scipy.stats import norm\n",
    "from sklearn.preprocessing import StandardScaler\n",
    "from scipy import stats\n",
    "\n",
    "\n",
    "from sklearn.preprocessing import LabelEncoder\n",
    "from sklearn.preprocessing import OneHotEncoder\n",
    "from sklearn.model_selection import train_test_split\n",
    "from lightgbm import LGBMRegressor\n",
    "from sklearn.metrics import accuracy_score\n",
    "from sklearn.metrics import mean_squared_error, r2_score"
   ]
  },
  {
   "cell_type": "code",
   "execution_count": 3,
   "metadata": {},
   "outputs": [],
   "source": [
    "def prepareData( train_df, test_df):\n",
    "    print(train_df.info())\n",
    "    data = train_df.values\n",
    "    test_data = test_df.values\n",
    "    \n",
    "    #if not train:\n",
    "    #    data = np.concatenate( (data , np.zeros(data.shape[0])) , axis=1)\n",
    "    X = data[: , 1:data.shape[1]-1]\n",
    "    Y = data[: , data.shape[1]-1]\n",
    "    print(X.shape, Y.shape)\n",
    "    X_Test = test_data[: , 1:test_data.shape[1]-1]\n",
    "    \n",
    "    \n",
    "    labEncoder = LabelEncoder()\n",
    "    labEncoder.fit(Y)\n",
    "    label_y = Y \n",
    "    \n",
    "    final_X = None\n",
    "    Test_X = None\n",
    "    for cnt in range(0 , X.shape[1]):\n",
    "        print(train_df.columns[cnt+1])\n",
    "        if train_df.columns[cnt+1].__contains__(\"status\") or train_df.columns[cnt+1].__contains__(\"hedge_value\") or train_df.columns[cnt+1].__contains__(\"indicator_code\") or train_df.columns[cnt+1].__contains__(\"bought\") or train_df.columns[cnt+1].__contains__(\"libor_rate\") or train_df.columns[cnt+1].__contains__(\"sold\") or train_df.columns[cnt+1].__contains__(\"start_date\") or train_df.columns[cnt+1].__contains__(\"euribor_rate\") or train_df.columns[cnt+1].__contains__(\"creation_date\") or train_df.columns[cnt+1].__contains__(\"sell_date\"):\n",
    "            print(\"non obj\")\n",
    "            \n",
    "            curFeature = X[:,cnt]\n",
    "            curFeature = curFeature.reshape(X.shape[0], 1)\n",
    "            \n",
    "            curTestFeature = X_Test[:,cnt]\n",
    "            curTestFeature = curTestFeature.reshape(X_Test.shape[0], 1)\n",
    "        else:\n",
    "            print(\"obj\")\n",
    "            labEncoder = LabelEncoder()\n",
    "            labEncoder.fit(np.append(X[:,cnt] , X_Test[:,cnt]))\n",
    "            curFeature = labEncoder.transform(X[:,cnt])\n",
    "            curFeature = curFeature.reshape(X.shape[0], 1)\n",
    "            \n",
    "            curTestFeature = labEncoder.transform(X_Test[:,cnt])\n",
    "            curTestFeature = curTestFeature.reshape(X_Test.shape[0], 1)\n",
    "            \n",
    "            \n",
    "            \n",
    "\n",
    "        if final_X is None:\n",
    "            final_X = curFeature\n",
    "        else:\n",
    "            final_X = np.concatenate((final_X , curFeature) , axis=1)\n",
    "        \n",
    "        \n",
    "        if Test_X is None:\n",
    "            Test_X = curTestFeature\n",
    "        else:\n",
    "            Test_X = np.concatenate((Test_X , curTestFeature) , axis=1)\n",
    "        \n",
    "    seed = 8\n",
    "    test_size = .1\n",
    "    X_train, X_test, Y_train, Y_test = train_test_split(final_X, label_y, test_size=test_size,\n",
    "                                                        random_state=seed)\n",
    "\n",
    "    \n",
    "\n",
    "    return X_train, X_test, Y_train, Y_test , Test_X"
   ]
  },
  {
   "cell_type": "code",
   "execution_count": 4,
   "metadata": {},
   "outputs": [],
   "source": [
    "def prepareDataByPandas(train_df , test_df):\n",
    "    modArr = dict()\n",
    "    for colNam in train_df.columns:\n",
    "        mod = train_df[colNam].mode()[0]\n",
    "        modArr[colNam] = mod\n",
    "    \n",
    "    for colNam in train_df.columns:\n",
    "        train_df[colNam].fillna(modArr[colNam] , inplace=True)\n",
    "    \n",
    "    for colNam in test_df.columns:\n",
    "        test_df[colNam].fillna(modArr[colNam] , inplace=True)\n",
    "    \n",
    "    \n",
    "    \n",
    "    return prepareData(train_df,test_df)"
   ]
  },
  {
   "cell_type": "code",
   "execution_count": 5,
   "metadata": {},
   "outputs": [
    {
     "name": "stdout",
     "output_type": "stream",
     "text": [
      "  pf_category  start_date         sold country_code  euribor_rate currency  \\\n",
      "0           B    20040720  110000000.0            T       0.02074      USD   \n",
      "1           A    20040709  176671000.0            N       0.02074      GBP   \n",
      "2           A    20040723   56474000.0            T       0.02074      USD   \n",
      "3           A    20040609  164813000.0            T       0.02074      USD   \n",
      "4           B    20040609  140800000.0            T       0.02074      USD   \n",
      "\n",
      "   libor_rate        bought  creation_date indicator_code  sell_date type  \\\n",
      "0    2.332216  1.098097e+08       20040720            NaN   20040812    B   \n",
      "1    5.269617  1.760084e+08       20040723            NaN   20040812    C   \n",
      "2    2.332216  5.637953e+07       20040723            NaN   20040817    A   \n",
      "3    2.332216  1.645088e+08       20040723            NaN   20040713    A   \n",
      "4    2.332216  1.405402e+08       20040723            NaN   20040713    B   \n",
      "\n",
      "  hedge_value status  returnrate  \n",
      "0         NaN    NaN     0.02496  \n",
      "1         NaN    NaN     0.05496  \n",
      "2         NaN    NaN     0.02496  \n",
      "3         NaN    NaN     0.02496  \n",
      "4         NaN    NaN     0.02496  \n",
      "  pf_category  start_date         sold country_code  euribor_rate currency  \\\n",
      "0           A    20040720  171831000.0            T       0.02074      USD   \n",
      "1           B    20040723   56485000.0            T       0.02074      USD   \n",
      "2           A    20040607   41734000.0            T       0.02074      USD   \n",
      "3           A    20040716   82951000.0            T       0.02074      USD   \n",
      "4           A    20040713   73293000.0            T       0.02074      USD   \n",
      "\n",
      "   libor_rate        bought  creation_date indicator_code  sell_date type  \\\n",
      "0    2.332216  1.715337e+08       20040720            NaN   20040812    A   \n",
      "1    2.332216  5.638038e+07       20040723            NaN   20040719    B   \n",
      "2    2.332216  4.166179e+07       20040726            NaN   20040709    A   \n",
      "3    2.332216  8.250936e+07       20040726            NaN   20041019    A   \n",
      "4    2.332216  7.317055e+07       20040726            NaN   20040813    A   \n",
      "\n",
      "  hedge_value status  returnrate  \n",
      "0         NaN    NaN           0  \n",
      "1         NaN    NaN           0  \n",
      "2         NaN    NaN           0  \n",
      "3         NaN    NaN           0  \n",
      "4         NaN    NaN           0  \n"
     ]
    }
   ],
   "source": [
    "train = pd.read_csv('../input/returnrate/train.csv')\n",
    "test = pd.read_csv('../input/returnrate/test.csv')\n",
    "sub = pd.read_csv('../input/returnrate/sample_submission.csv')\n",
    "\n",
    "train.rename(columns={\"return\": \"returnrate\"}, inplace=True)\n",
    "test['returnrate'] = 0\n",
    "\n",
    "train.drop(\"portfolio_id\", axis = 1, inplace = True)\n",
    "test.drop(\"portfolio_id\", axis = 1, inplace = True)\n",
    "\n",
    "train.drop(\"desk_id\", axis = 1, inplace = True)\n",
    "test.drop(\"desk_id\", axis = 1, inplace = True)\n",
    "\n",
    "train.drop(\"office_id\", axis = 1, inplace = True)\n",
    "test.drop(\"office_id\", axis = 1, inplace = True)\n",
    "\n",
    "print(train.head())\n",
    "print(test.head())"
   ]
  },
  {
   "cell_type": "code",
   "execution_count": 6,
   "metadata": {},
   "outputs": [
    {
     "name": "stdout",
     "output_type": "stream",
     "text": [
      "<class 'pandas.core.frame.DataFrame'>\n",
      "RangeIndex: 9366 entries, 0 to 9365\n",
      "Data columns (total 15 columns):\n",
      "pf_category       9366 non-null object\n",
      "start_date        9366 non-null int64\n",
      "sold              9366 non-null float64\n",
      "country_code      9366 non-null object\n",
      "euribor_rate      9366 non-null float64\n",
      "currency          9366 non-null object\n",
      "libor_rate        9366 non-null float64\n",
      "bought            9366 non-null float64\n",
      "creation_date     9366 non-null int64\n",
      "indicator_code    9366 non-null bool\n",
      "sell_date         9366 non-null int64\n",
      "type              9366 non-null object\n",
      "hedge_value       9366 non-null bool\n",
      "status            9366 non-null bool\n",
      "returnrate        9366 non-null float64\n",
      "dtypes: bool(3), float64(5), int64(3), object(4)\n",
      "memory usage: 905.6+ KB\n",
      "None\n",
      "(9366, 13) (9366,)\n",
      "start_date\n",
      "non obj\n",
      "sold\n",
      "non obj\n",
      "country_code\n",
      "obj\n",
      "euribor_rate\n",
      "non obj\n",
      "currency\n",
      "obj\n",
      "libor_rate\n",
      "non obj\n",
      "bought\n",
      "non obj\n",
      "creation_date\n",
      "non obj\n",
      "indicator_code\n",
      "non obj\n",
      "sell_date\n",
      "non obj\n",
      "type\n",
      "obj\n",
      "hedge_value\n",
      "non obj\n",
      "status\n",
      "non obj\n"
     ]
    }
   ],
   "source": [
    "x_train, x_test, y_train, y_test , actual_test = prepareDataByPandas(train , test)"
   ]
  },
  {
   "cell_type": "code",
   "execution_count": 7,
   "metadata": {},
   "outputs": [
    {
     "data": {
      "text/plain": [
       "LGBMRegressor(bagging_fraction=0.8, bagging_freq=5, bagging_seed=9,\n",
       "              boosting_type='gbdt', class_weight=None, colsample_bytree=1.0,\n",
       "              feature_fraction=0.2319, feature_fraction_seed=9,\n",
       "              importance_type='split', learning_rate=0.01, max_bin=55,\n",
       "              max_depth=3, min_child_samples=20, min_child_weight=0.001,\n",
       "              min_data_in_leaf=6, min_split_gain=0.0,\n",
       "              min_sum_hessian_in_leaf=11, n_estimators=720, n_jobs=-1,\n",
       "              num_leaves=5, objective='regression', random_state=None,\n",
       "              reg_alpha=0.0, reg_lambda=0.0, silent=True, subsample=1.0,\n",
       "              subsample_for_bin=200000, subsample_freq=0)"
      ]
     },
     "execution_count": 7,
     "metadata": {},
     "output_type": "execute_result"
    }
   ],
   "source": [
    "#model = LGBMRegressor(max_depth=3,silent=False)\n",
    "model = LGBMRegressor(objective='regression',num_leaves=5,\n",
    "                              learning_rate=0.01, n_estimators=720,\n",
    "                              max_bin = 55, bagging_fraction = 0.8,\n",
    "                              bagging_freq = 5, feature_fraction = 0.2319,\n",
    "                              feature_fraction_seed=9, bagging_seed=9,\n",
    "                              min_data_in_leaf =6, min_sum_hessian_in_leaf = 11, max_depth=3)\n",
    "model.fit(x_train, y_train)"
   ]
  },
  {
   "cell_type": "code",
   "execution_count": 8,
   "metadata": {},
   "outputs": [],
   "source": [
    "y_pred = model.predict(x_test)"
   ]
  },
  {
   "cell_type": "code",
   "execution_count": 9,
   "metadata": {},
   "outputs": [
    {
     "name": "stdout",
     "output_type": "stream",
     "text": [
      "Mean squared error: 0.00\n",
      "Mean: 0.01\n",
      "Variance score: 0.96\n"
     ]
    }
   ],
   "source": [
    "np.concatenate((y_pred.reshape(len(y_pred) ,1) , y_test.reshape(len(y_pred) ,1)), axis=1)\n",
    "\n",
    "def Average(lst): \n",
    "    return sum(lst) / len(lst) \n",
    "\n",
    "# The mean squared error\n",
    "print(\"Mean squared error: %.2f\"\n",
    "      % mean_squared_error(y_test, y_pred))\n",
    "\n",
    "# Mean of y_test\n",
    "print(\"Mean: %.2f\"\n",
    "      % Average(y_test))\n",
    "\n",
    "print('Variance score: %.2f' % r2_score(y_test, y_pred))"
   ]
  }
 ],
 "metadata": {
  "kernelspec": {
   "display_name": "Python 3",
   "language": "python",
   "name": "python3"
  },
  "language_info": {
   "codemirror_mode": {
    "name": "ipython",
    "version": 3
   },
   "file_extension": ".py",
   "mimetype": "text/x-python",
   "name": "python",
   "nbconvert_exporter": "python",
   "pygments_lexer": "ipython3",
   "version": "3.6.6"
  }
 },
 "nbformat": 4,
 "nbformat_minor": 4
}
